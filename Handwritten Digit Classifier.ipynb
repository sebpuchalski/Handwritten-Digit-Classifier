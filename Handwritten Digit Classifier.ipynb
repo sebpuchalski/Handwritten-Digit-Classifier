{
 "cells": [
  {
   "cell_type": "markdown",
   "metadata": {},
   "source": [
    "# Handwritten Digit Classifier"
   ]
  },
  {
   "cell_type": "code",
   "execution_count": 1,
   "metadata": {},
   "outputs": [
    {
     "data": {
      "text/html": [
       "<div>\n",
       "<style scoped>\n",
       "    .dataframe tbody tr th:only-of-type {\n",
       "        vertical-align: middle;\n",
       "    }\n",
       "\n",
       "    .dataframe tbody tr th {\n",
       "        vertical-align: top;\n",
       "    }\n",
       "\n",
       "    .dataframe thead th {\n",
       "        text-align: right;\n",
       "    }\n",
       "</style>\n",
       "<table border=\"1\" class=\"dataframe\">\n",
       "  <thead>\n",
       "    <tr style=\"text-align: right;\">\n",
       "      <th></th>\n",
       "      <th>0</th>\n",
       "      <th>1</th>\n",
       "      <th>2</th>\n",
       "      <th>3</th>\n",
       "      <th>4</th>\n",
       "      <th>5</th>\n",
       "      <th>6</th>\n",
       "      <th>7</th>\n",
       "      <th>8</th>\n",
       "      <th>9</th>\n",
       "      <th>...</th>\n",
       "      <th>54</th>\n",
       "      <th>55</th>\n",
       "      <th>56</th>\n",
       "      <th>57</th>\n",
       "      <th>58</th>\n",
       "      <th>59</th>\n",
       "      <th>60</th>\n",
       "      <th>61</th>\n",
       "      <th>62</th>\n",
       "      <th>63</th>\n",
       "    </tr>\n",
       "  </thead>\n",
       "  <tbody>\n",
       "    <tr>\n",
       "      <th>0</th>\n",
       "      <td>0.0</td>\n",
       "      <td>0.0</td>\n",
       "      <td>5.0</td>\n",
       "      <td>13.0</td>\n",
       "      <td>9.0</td>\n",
       "      <td>1.0</td>\n",
       "      <td>0.0</td>\n",
       "      <td>0.0</td>\n",
       "      <td>0.0</td>\n",
       "      <td>0.0</td>\n",
       "      <td>...</td>\n",
       "      <td>0.0</td>\n",
       "      <td>0.0</td>\n",
       "      <td>0.0</td>\n",
       "      <td>0.0</td>\n",
       "      <td>6.0</td>\n",
       "      <td>13.0</td>\n",
       "      <td>10.0</td>\n",
       "      <td>0.0</td>\n",
       "      <td>0.0</td>\n",
       "      <td>0.0</td>\n",
       "    </tr>\n",
       "    <tr>\n",
       "      <th>1</th>\n",
       "      <td>0.0</td>\n",
       "      <td>0.0</td>\n",
       "      <td>0.0</td>\n",
       "      <td>12.0</td>\n",
       "      <td>13.0</td>\n",
       "      <td>5.0</td>\n",
       "      <td>0.0</td>\n",
       "      <td>0.0</td>\n",
       "      <td>0.0</td>\n",
       "      <td>0.0</td>\n",
       "      <td>...</td>\n",
       "      <td>0.0</td>\n",
       "      <td>0.0</td>\n",
       "      <td>0.0</td>\n",
       "      <td>0.0</td>\n",
       "      <td>0.0</td>\n",
       "      <td>11.0</td>\n",
       "      <td>16.0</td>\n",
       "      <td>10.0</td>\n",
       "      <td>0.0</td>\n",
       "      <td>0.0</td>\n",
       "    </tr>\n",
       "    <tr>\n",
       "      <th>2</th>\n",
       "      <td>0.0</td>\n",
       "      <td>0.0</td>\n",
       "      <td>0.0</td>\n",
       "      <td>4.0</td>\n",
       "      <td>15.0</td>\n",
       "      <td>12.0</td>\n",
       "      <td>0.0</td>\n",
       "      <td>0.0</td>\n",
       "      <td>0.0</td>\n",
       "      <td>0.0</td>\n",
       "      <td>...</td>\n",
       "      <td>5.0</td>\n",
       "      <td>0.0</td>\n",
       "      <td>0.0</td>\n",
       "      <td>0.0</td>\n",
       "      <td>0.0</td>\n",
       "      <td>3.0</td>\n",
       "      <td>11.0</td>\n",
       "      <td>16.0</td>\n",
       "      <td>9.0</td>\n",
       "      <td>0.0</td>\n",
       "    </tr>\n",
       "    <tr>\n",
       "      <th>3</th>\n",
       "      <td>0.0</td>\n",
       "      <td>0.0</td>\n",
       "      <td>7.0</td>\n",
       "      <td>15.0</td>\n",
       "      <td>13.0</td>\n",
       "      <td>1.0</td>\n",
       "      <td>0.0</td>\n",
       "      <td>0.0</td>\n",
       "      <td>0.0</td>\n",
       "      <td>8.0</td>\n",
       "      <td>...</td>\n",
       "      <td>9.0</td>\n",
       "      <td>0.0</td>\n",
       "      <td>0.0</td>\n",
       "      <td>0.0</td>\n",
       "      <td>7.0</td>\n",
       "      <td>13.0</td>\n",
       "      <td>13.0</td>\n",
       "      <td>9.0</td>\n",
       "      <td>0.0</td>\n",
       "      <td>0.0</td>\n",
       "    </tr>\n",
       "    <tr>\n",
       "      <th>4</th>\n",
       "      <td>0.0</td>\n",
       "      <td>0.0</td>\n",
       "      <td>0.0</td>\n",
       "      <td>1.0</td>\n",
       "      <td>11.0</td>\n",
       "      <td>0.0</td>\n",
       "      <td>0.0</td>\n",
       "      <td>0.0</td>\n",
       "      <td>0.0</td>\n",
       "      <td>0.0</td>\n",
       "      <td>...</td>\n",
       "      <td>0.0</td>\n",
       "      <td>0.0</td>\n",
       "      <td>0.0</td>\n",
       "      <td>0.0</td>\n",
       "      <td>0.0</td>\n",
       "      <td>2.0</td>\n",
       "      <td>16.0</td>\n",
       "      <td>4.0</td>\n",
       "      <td>0.0</td>\n",
       "      <td>0.0</td>\n",
       "    </tr>\n",
       "  </tbody>\n",
       "</table>\n",
       "<p>5 rows × 64 columns</p>\n",
       "</div>"
      ],
      "text/plain": [
       "    0    1    2     3     4     5    6    7    8    9  ...    54   55   56  \\\n",
       "0  0.0  0.0  5.0  13.0   9.0   1.0  0.0  0.0  0.0  0.0 ...   0.0  0.0  0.0   \n",
       "1  0.0  0.0  0.0  12.0  13.0   5.0  0.0  0.0  0.0  0.0 ...   0.0  0.0  0.0   \n",
       "2  0.0  0.0  0.0   4.0  15.0  12.0  0.0  0.0  0.0  0.0 ...   5.0  0.0  0.0   \n",
       "3  0.0  0.0  7.0  15.0  13.0   1.0  0.0  0.0  0.0  8.0 ...   9.0  0.0  0.0   \n",
       "4  0.0  0.0  0.0   1.0  11.0   0.0  0.0  0.0  0.0  0.0 ...   0.0  0.0  0.0   \n",
       "\n",
       "    57   58    59    60    61   62   63  \n",
       "0  0.0  6.0  13.0  10.0   0.0  0.0  0.0  \n",
       "1  0.0  0.0  11.0  16.0  10.0  0.0  0.0  \n",
       "2  0.0  0.0   3.0  11.0  16.0  9.0  0.0  \n",
       "3  0.0  7.0  13.0  13.0   9.0  0.0  0.0  \n",
       "4  0.0  0.0   2.0  16.0   4.0  0.0  0.0  \n",
       "\n",
       "[5 rows x 64 columns]"
      ]
     },
     "execution_count": 1,
     "metadata": {},
     "output_type": "execute_result"
    }
   ],
   "source": [
    "import pandas as pd\n",
    "import numpy as np\n",
    "import matplotlib.pyplot as plt\n",
    "from sklearn.datasets import load_digits\n",
    "\n",
    "digits = load_digits()\n",
    "target = pd.Series(digits.target, name=\"Target\")\n",
    "images = pd.DataFrame(digits.data)\n",
    "images.head()"
   ]
  },
  {
   "cell_type": "code",
   "execution_count": 2,
   "metadata": {},
   "outputs": [
    {
     "name": "stdout",
     "output_type": "stream",
     "text": [
      "(1797,)\n",
      "(1797, 8, 8)\n"
     ]
    }
   ],
   "source": [
    "print(target.shape)\n",
    "print(digits.images.shape)"
   ]
  },
  {
   "cell_type": "code",
   "execution_count": 3,
   "metadata": {},
   "outputs": [
    {
     "data": {
      "image/png": "[encoded data removed]",
      "text/plain": [
       "<Figure size 432x288 with 1 Axes>"
      ]
     },
     "metadata": {
      "needs_background": "light"
     },
     "output_type": "display_data"
    }
   ],
   "source": [
    "#Visualize first digit from the dataset\n",
    "%matplotlib inline\n",
    "first_image = images.iloc[0,:]\n",
    "np_image = first_image.values\n",
    "np_image = np_image.reshape(8,8)\n",
    "plt.imshow(np_image, cmap='gray_r')\n",
    "plt.show()"
   ]
  },
  {
   "cell_type": "code",
   "execution_count": 4,
   "metadata": {
    "scrolled": true
   },
   "outputs": [
    {
     "data": {
      "image/png": "[encoded data removed]",
      "text/plain": [
       "<Figure size 432x288 with 1 Axes>"
      ]
     },
     "metadata": {
      "needs_background": "light"
     },
     "output_type": "display_data"
    }
   ],
   "source": [
    "#visualize 2nd image from the dataset\n",
    "second_image = images.iloc[1,:]\n",
    "np_image = second_image.values\n",
    "np_image = np_image.reshape(8,8)\n",
    "plt.imshow(np_image, cmap='gray_r')\n",
    "plt.show()"
   ]
  },
  {
   "cell_type": "code",
   "execution_count": 5,
   "metadata": {},
   "outputs": [],
   "source": [
    "# import modules for analysis\n",
    "from sklearn.neighbors import KNeighborsClassifier\n",
    "from sklearn.neural_network import MLPClassifier\n",
    "from sklearn.model_selection import train_test_split\n",
    "from sklearn.model_selection import cross_val_score, KFold\n",
    "from sklearn.metrics import confusion_matrix\n",
    "from sklearn.metrics import f1_score\n",
    "from sklearn.metrics import precision_score\n",
    "from sklearn.metrics import recall_score\n",
    "from sklearn.metrics import accuracy_score"
   ]
  },
  {
   "cell_type": "code",
   "execution_count": 12,
   "metadata": {},
   "outputs": [],
   "source": [
    "# define test and train data subsets for custom functions:\n",
    "combined=pd.concat([images,target],axis=1).sample(frac=1,random_state=1)\n",
    "test = combined.iloc[int(len(combined)*0.75):,:]\n",
    "train = combined.iloc[:int(len(combined)*0.75),:]"
   ]
  },
  {
   "cell_type": "code",
   "execution_count": 13,
   "metadata": {},
   "outputs": [],
   "source": [
    "#define functions that will produce predictions for test and train subsets:\n",
    "\n",
    "def eval_knn(train,test,k):\n",
    "    mod=KNeighborsClassifier(n_neighbors=k)\n",
    "    mod.fit(train.iloc[:,:-1],train.iloc[:,-1:].values.ravel())\n",
    "    predicted_test = mod.predict(test.iloc[:,:-1])\n",
    "    predicted_train = mod.predict(train.iloc[:,:-1])\n",
    "    test_score = f1_score(test.iloc[:,-1:],predicted_test,average='micro')\n",
    "    train_score = f1_score(train.iloc[:,-1:],predicted_train,average='micro')\n",
    "    return test_score, train_score\n",
    "\n",
    "def eval_mpl_one_layer(train,test,a):\n",
    "    mod=MLPClassifier(hidden_layer_sizes=(a,),max_iter=100)\n",
    "    mod.fit(train.iloc[:,:-1],train.iloc[:,-1:].values.ravel())\n",
    "    predicted_test = mod.predict(test.iloc[:,:-1])\n",
    "    predicted_train = mod.predict(train.iloc[:,:-1])\n",
    "    test_score = f1_score(test.iloc[:,-1:],predicted_test,average='micro')\n",
    "    train_score = f1_score(train.iloc[:,-1:],predicted_train,average='micro')\n",
    "    return test_score, train_score\n",
    "\n",
    "def eval_mpl_two_layers(train,test,a,b):\n",
    "    mod=MLPClassifier(hidden_layer_sizes=(a,b),batch_size=20)\n",
    "    mod.fit(train.iloc[:,:-1],train.iloc[:,-1:].values.ravel())\n",
    "    predicted_test = mod.predict(test.iloc[:,:-1])\n",
    "    predicted_train = mod.predict(train.iloc[:,:-1])\n",
    "    test_score = f1_score(test.iloc[:,-1:],predicted_test,average='micro')\n",
    "    train_score = f1_score(train.iloc[:,-1:],predicted_train,average='micro')\n",
    "    return test_score, train_score\n",
    "\n",
    "def eval_mpl_three_layers(train,test,a,b,c):\n",
    "    mod=MLPClassifier(hidden_layer_sizes=(a,b,c),batch_size=20)\n",
    "    mod.fit(train.iloc[:,:-1],train.iloc[:,-1:].values.ravel())\n",
    "    predicted_test = mod.predict(test.iloc[:,:-1])\n",
    "    predicted_train = mod.predict(train.iloc[:,:-1])\n",
    "    test_score = f1_score(test.iloc[:,-1:],predicted_test,average='micro')\n",
    "    train_score = f1_score(train.iloc[:,-1:],predicted_train,average='micro')\n",
    "    return test_score, train_score"
   ]
  },
  {
   "cell_type": "markdown",
   "metadata": {},
   "source": [
    "## Experiment with KNeighborsClassifier"
   ]
  },
  {
   "cell_type": "code",
   "execution_count": 14,
   "metadata": {},
   "outputs": [
    {
     "data": {
      "image/png": "[encoded data removed]",
      "text/plain": [
       "<Figure size 432x288 with 1 Axes>"
      ]
     },
     "metadata": {
      "needs_background": "light"
     },
     "output_type": "display_data"
    }
   ],
   "source": [
    "f1_test=[]\n",
    "f1_train=[]\n",
    "for item in np.arange(1,600,60):\n",
    "    test_f1,train_f1 = eval_knn(train,test,item)\n",
    "    f1_test.append(test_f1)\n",
    "    f1_train.append(train_f1)\n",
    "    \n",
    "plt.plot(np.arange(1,600,60),f1_test, label=\"test\")\n",
    "plt.plot(np.arange(1,600,60),f1_train, label=\"train\")\n",
    "plt.legend()\n",
    "plt.ylabel(\"f1 score\")\n",
    "plt.xlabel(\"neighbors\")\n",
    "plt.show()"
   ]
  },
  {
   "cell_type": "markdown",
   "metadata": {},
   "source": [
    "## Experiment with Neural Network, 1 layer"
   ]
  },
  {
   "cell_type": "code",
   "execution_count": 15,
   "metadata": {},
   "outputs": [
    {
     "name": "stderr",
     "output_type": "stream",
     "text": [
      "C:\\ProgramData\\Anaconda3\\lib\\site-packages\\sklearn\\neural_network\\multilayer_perceptron.py:566: ConvergenceWarning: Stochastic Optimizer: Maximum iterations (100) reached and the optimization hasn't converged yet.\n",
      "  % self.max_iter, ConvergenceWarning)\n",
      "C:\\ProgramData\\Anaconda3\\lib\\site-packages\\sklearn\\neural_network\\multilayer_perceptron.py:566: ConvergenceWarning: Stochastic Optimizer: Maximum iterations (100) reached and the optimization hasn't converged yet.\n",
      "  % self.max_iter, ConvergenceWarning)\n",
      "C:\\ProgramData\\Anaconda3\\lib\\site-packages\\sklearn\\neural_network\\multilayer_perceptron.py:566: ConvergenceWarning: Stochastic Optimizer: Maximum iterations (100) reached and the optimization hasn't converged yet.\n",
      "  % self.max_iter, ConvergenceWarning)\n",
      "C:\\ProgramData\\Anaconda3\\lib\\site-packages\\sklearn\\neural_network\\multilayer_perceptron.py:566: ConvergenceWarning: Stochastic Optimizer: Maximum iterations (100) reached and the optimization hasn't converged yet.\n",
      "  % self.max_iter, ConvergenceWarning)\n",
      "C:\\ProgramData\\Anaconda3\\lib\\site-packages\\sklearn\\neural_network\\multilayer_perceptron.py:566: ConvergenceWarning: Stochastic Optimizer: Maximum iterations (100) reached and the optimization hasn't converged yet.\n",
      "  % self.max_iter, ConvergenceWarning)\n"
     ]
    },
    {
     "data": {
      "image/png": "[encoded data removed]",
      "text/plain": [
       "<Figure size 432x288 with 1 Axes>"
      ]
     },
     "metadata": {
      "needs_background": "light"
     },
     "output_type": "display_data"
    }
   ],
   "source": [
    "neurons=[8,16,32,64,128]\n",
    "\n",
    "f1_test=[]\n",
    "f1_train=[]\n",
    "for item in neurons:\n",
    "    test_f1,train_f1 = eval_mpl_one_layer(train,test,item)\n",
    "    f1_test.append(test_f1)\n",
    "    f1_train.append(train_f1)\n",
    "    \n",
    "plt.plot(neurons,f1_test, label=\"test\")\n",
    "plt.plot(neurons,f1_train, label=\"train\")\n",
    "plt.legend()\n",
    "plt.ylabel(\"f1 score\")\n",
    "plt.xlabel(\"neurons\")\n",
    "plt.show()"
   ]
  },
  {
   "cell_type": "code",
   "execution_count": 16,
   "metadata": {},
   "outputs": [
    {
     "name": "stderr",
     "output_type": "stream",
     "text": [
      "C:\\ProgramData\\Anaconda3\\lib\\site-packages\\sklearn\\neural_network\\multilayer_perceptron.py:566: ConvergenceWarning: Stochastic Optimizer: Maximum iterations (200) reached and the optimization hasn't converged yet.\n",
      "  % self.max_iter, ConvergenceWarning)\n",
      "C:\\ProgramData\\Anaconda3\\lib\\site-packages\\sklearn\\neural_network\\multilayer_perceptron.py:566: ConvergenceWarning: Stochastic Optimizer: Maximum iterations (200) reached and the optimization hasn't converged yet.\n",
      "  % self.max_iter, ConvergenceWarning)\n",
      "C:\\ProgramData\\Anaconda3\\lib\\site-packages\\sklearn\\neural_network\\multilayer_perceptron.py:566: ConvergenceWarning: Stochastic Optimizer: Maximum iterations (200) reached and the optimization hasn't converged yet.\n",
      "  % self.max_iter, ConvergenceWarning)\n",
      "C:\\ProgramData\\Anaconda3\\lib\\site-packages\\sklearn\\neural_network\\multilayer_perceptron.py:566: ConvergenceWarning: Stochastic Optimizer: Maximum iterations (200) reached and the optimization hasn't converged yet.\n",
      "  % self.max_iter, ConvergenceWarning)\n",
      "C:\\ProgramData\\Anaconda3\\lib\\site-packages\\sklearn\\neural_network\\multilayer_perceptron.py:566: ConvergenceWarning: Stochastic Optimizer: Maximum iterations (200) reached and the optimization hasn't converged yet.\n",
      "  % self.max_iter, ConvergenceWarning)\n"
     ]
    },
    {
     "data": {
      "image/png": "[encoded data removed]",
      "text/plain": [
       "<Figure size 432x288 with 1 Axes>"
      ]
     },
     "metadata": {
      "needs_background": "light"
     },
     "output_type": "display_data"
    }
   ],
   "source": [
    "def cross_validate(k):\n",
    "\n",
    "    mod=MLPClassifier(hidden_layer_sizes=(10,),batch_size=20)\n",
    "    kf = KFold(k, shuffle = True, random_state=1)\n",
    "    f1 = cross_val_score(mod ,images,target, scoring = \"f1_micro\", cv=kf) \n",
    "    av=np.mean(f1)\n",
    "    return av\n",
    "\n",
    "scores=[]\n",
    "for k in np.arange(2,6,1):\n",
    "        a=cross_validate(k)\n",
    "        scores.append(a)\n",
    "plt.scatter(np.arange(2,6,1),scores)\n",
    "plt.ylabel(\"average f1 score\")\n",
    "plt.xlabel(\"folds\")\n",
    "plt.show()"
   ]
  },
  {
   "cell_type": "markdown",
   "metadata": {},
   "source": [
    "## Experiment with Neural Network, 1 layer, different neuron numbers"
   ]
  },
  {
   "cell_type": "code",
   "execution_count": 18,
   "metadata": {},
   "outputs": [
    {
     "name": "stderr",
     "output_type": "stream",
     "text": [
      "C:\\ProgramData\\Anaconda3\\lib\\site-packages\\sklearn\\neural_network\\multilayer_perceptron.py:566: ConvergenceWarning: Stochastic Optimizer: Maximum iterations (200) reached and the optimization hasn't converged yet.\n",
      "  % self.max_iter, ConvergenceWarning)\n",
      "C:\\ProgramData\\Anaconda3\\lib\\site-packages\\sklearn\\neural_network\\multilayer_perceptron.py:566: ConvergenceWarning: Stochastic Optimizer: Maximum iterations (200) reached and the optimization hasn't converged yet.\n",
      "  % self.max_iter, ConvergenceWarning)\n",
      "C:\\ProgramData\\Anaconda3\\lib\\site-packages\\sklearn\\neural_network\\multilayer_perceptron.py:566: ConvergenceWarning: Stochastic Optimizer: Maximum iterations (200) reached and the optimization hasn't converged yet.\n",
      "  % self.max_iter, ConvergenceWarning)\n"
     ]
    },
    {
     "data": {
      "image/png": "[encoded data removed]",
      "text/plain": [
       "<Figure size 432x288 with 1 Axes>"
      ]
     },
     "metadata": {
      "needs_background": "light"
     },
     "output_type": "display_data"
    }
   ],
   "source": [
    "neurons_layer1=[8,16,32,64,128,256]\n",
    "f1_list=[]\n",
    "for item in neurons_layer1:\n",
    "    mod=MLPClassifier(hidden_layer_sizes=(item,),batch_size=20)\n",
    "    kf = KFold(4, shuffle = True, random_state=1)\n",
    "    f1 = cross_val_score(mod ,images,target, scoring = \"f1_micro\", cv=kf) \n",
    "    av=np.mean(f1)\n",
    "    f1_list.append(av)\n",
    "\n",
    "plt.plot(neurons_layer1,f1_list)\n",
    "plt.ylabel(\"average f1 score\")\n",
    "plt.xlabel(\"neurons\")\n",
    "plt.show()"
   ]
  },
  {
   "cell_type": "markdown",
   "metadata": {},
   "source": [
    "## Experiment with Neural Network, 2 layers, equal neuron numbers"
   ]
  },
  {
   "cell_type": "code",
   "execution_count": 21,
   "metadata": {},
   "outputs": [
    {
     "name": "stdout",
     "output_type": "stream",
     "text": [
      "0.9749542192526602\n"
     ]
    }
   ],
   "source": [
    "mod=MLPClassifier(hidden_layer_sizes=(64,64),batch_size=20)\n",
    "kf = KFold(4, shuffle = True, random_state=1)\n",
    "f1 = cross_val_score(mod ,images,target, scoring = \"f1_micro\", cv=kf) \n",
    "av=np.mean(f1)\n",
    "print(av)"
   ]
  },
  {
   "cell_type": "markdown",
   "metadata": {},
   "source": [
    "## Experiment with Neural Network, 2 layers, different neuron numbers"
   ]
  },
  {
   "cell_type": "code",
   "execution_count": 22,
   "metadata": {},
   "outputs": [
    {
     "name": "stderr",
     "output_type": "stream",
     "text": [
      "C:\\ProgramData\\Anaconda3\\lib\\site-packages\\sklearn\\neural_network\\multilayer_perceptron.py:566: ConvergenceWarning: Stochastic Optimizer: Maximum iterations (200) reached and the optimization hasn't converged yet.\n",
      "  % self.max_iter, ConvergenceWarning)\n"
     ]
    },
    {
     "data": {
      "image/png": "[encoded data removed]",
      "text/plain": [
       "<Figure size 432x288 with 1 Axes>"
      ]
     },
     "metadata": {
      "needs_background": "light"
     },
     "output_type": "display_data"
    }
   ],
   "source": [
    "neurons_layer1=[8,16,32,64,128]\n",
    "neurons_layer2=[8,16,32,64,128]\n",
    "\n",
    "f1_test=[]\n",
    "f1_train=[]\n",
    "for item1, item2 in zip(neurons_layer1,neurons_layer2):\n",
    "    test_f1,train_f1 = eval_mpl_two_layers(train,test,item1, item2)\n",
    "    f1_test.append(test_f1)\n",
    "    f1_train.append(train_f1)\n",
    "    \n",
    "plt.plot(neurons_layer1,f1_test, label=\"test\")\n",
    "plt.plot(neurons_layer1,f1_train, label=\"train\")\n",
    "plt.legend()\n",
    "plt.ylabel(\"f1 score\")\n",
    "plt.xlabel(\"neurons\")\n",
    "plt.show()"
   ]
  },
  {
   "cell_type": "markdown",
   "metadata": {},
   "source": [
    "## Experiment with Neural Network, 3 layers, different neuron numbers"
   ]
  },
  {
   "cell_type": "code",
   "execution_count": 23,
   "metadata": {},
   "outputs": [
    {
     "data": {
      "image/png": "[encoded data removed]",
      "text/plain": [
       "<Figure size 432x288 with 1 Axes>"
      ]
     },
     "metadata": {
      "needs_background": "light"
     },
     "output_type": "display_data"
    }
   ],
   "source": [
    "neurons_layer1=[8,16,32,64,128]\n",
    "neurons_layer2=[8,16,32,64,128]\n",
    "neurons_layer3=[8,16,32,64,128]\n",
    "f1_test=[]\n",
    "f1_train=[]\n",
    "for item1, item2, item3 in zip(neurons_layer1,neurons_layer2,neurons_layer3):\n",
    "    test_f1,train_f1 = eval_mpl_three_layers(train,test,item1, item2,item3)\n",
    "    f1_test.append(test_f1)\n",
    "    f1_train.append(train_f1)\n",
    "    \n",
    "plt.plot(neurons_layer1,f1_test, label=\"test\")\n",
    "plt.plot(neurons_layer1,f1_train, label=\"train\")\n",
    "plt.legend()\n",
    "plt.ylabel(\"f1 score\")\n",
    "plt.xlabel(\"neurons\")\n",
    "plt.show()"
   ]
  },
  {
   "cell_type": "code",
   "execution_count": 25,
   "metadata": {},
   "outputs": [
    {
     "name": "stdout",
     "output_type": "stream",
     "text": [
      "0.9688888888888889\n"
     ]
    },
    {
     "name": "stderr",
     "output_type": "stream",
     "text": [
      "C:\\ProgramData\\Anaconda3\\lib\\site-packages\\sklearn\\neural_network\\multilayer_perceptron.py:566: ConvergenceWarning: Stochastic Optimizer: Maximum iterations (100) reached and the optimization hasn't converged yet.\n",
      "  % self.max_iter, ConvergenceWarning)\n"
     ]
    },
    {
     "data": {
      "text/plain": [
       "array([[54,  0,  0,  0,  0,  0,  0,  0,  0,  0],\n",
       "       [ 0, 42,  0,  0,  0,  0,  0,  0,  0,  1],\n",
       "       [ 0,  1, 40,  0,  0,  0,  0,  0,  0,  0],\n",
       "       [ 0,  0,  0, 43,  0,  1,  0,  0,  0,  0],\n",
       "       [ 0,  1,  0,  0, 34,  0,  0,  0,  1,  2],\n",
       "       [ 0,  0,  0,  0,  0, 47,  0,  0,  0,  0],\n",
       "       [ 0,  0,  0,  0,  0,  1, 44,  0,  0,  0],\n",
       "       [ 0,  0,  0,  0,  0,  0,  0, 49,  0,  0],\n",
       "       [ 0,  5,  0,  0,  0,  0,  1,  0, 41,  0],\n",
       "       [ 0,  0,  0,  0,  0,  0,  0,  0,  0, 42]], dtype=int64)"
      ]
     },
     "execution_count": 25,
     "metadata": {},
     "output_type": "execute_result"
    }
   ],
   "source": [
    "mod=MLPClassifier(hidden_layer_sizes=(128,),max_iter=100)\n",
    "mod.fit(train.iloc[:,:-1],train.iloc[:,-1:].values.ravel())\n",
    "predicted_test = mod.predict(test.iloc[:,:-1])\n",
    "test_score = f1_score(test.iloc[:,-1:],predicted_test,average='micro')\n",
    "print(test_score)\n",
    "confusion_matrix(test.iloc[:,-1:],predicted_test)"
   ]
  },
  {
   "cell_type": "code",
   "execution_count": 32,
   "metadata": {},
   "outputs": [
    {
     "name": "stdout",
     "output_type": "stream",
     "text": [
      "0.98\n"
     ]
    },
    {
     "data": {
      "text/plain": [
       "array([[54,  0,  0,  0,  0,  0,  0,  0,  0,  0],\n",
       "       [ 0, 43,  0,  0,  0,  0,  0,  0,  0,  0],\n",
       "       [ 0,  0, 41,  0,  0,  0,  0,  0,  0,  0],\n",
       "       [ 0,  0,  0, 44,  0,  0,  0,  0,  0,  0],\n",
       "       [ 0,  0,  0,  0, 35,  0,  0,  1,  1,  1],\n",
       "       [ 0,  0,  0,  0,  0, 47,  0,  0,  0,  0],\n",
       "       [ 0,  0,  0,  0,  0,  0, 45,  0,  0,  0],\n",
       "       [ 0,  0,  0,  0,  0,  0,  0, 49,  0,  0],\n",
       "       [ 0,  5,  1,  0,  0,  0,  0,  0, 41,  0],\n",
       "       [ 0,  0,  0,  0,  0,  0,  0,  0,  0, 42]], dtype=int64)"
      ]
     },
     "execution_count": 32,
     "metadata": {},
     "output_type": "execute_result"
    }
   ],
   "source": [
    "mod=KNeighborsClassifier(n_neighbors=4)\n",
    "mod.fit(train.iloc[:,:-1],train.iloc[:,-1:].values.ravel())\n",
    "predicted_test = mod.predict(test.iloc[:,:-1])\n",
    "test_score = f1_score(test.iloc[:,-1:],predicted_test,average='micro')\n",
    "print(test_score)\n",
    "confusion_matrix(test.iloc[:,-1:],predicted_test)"
   ]
  },
  {
   "cell_type": "markdown",
   "metadata": {},
   "source": [
    "# Conclusions\n",
    "\n",
    "Both KNeighbors and Neural Network classifiers provided excellent performance for the provided data set!"
   ]
  }
 ],
 "metadata": {
  "anaconda-cloud": {},
  "kernelspec": {
   "display_name": "Python 3",
   "language": "python",
   "name": "python3"
  },
  "language_info": {
   "codemirror_mode": {
    "name": "ipython",
    "version": 3
   },
   "file_extension": ".py",
   "mimetype": "text/x-python",
   "name": "python",
   "nbconvert_exporter": "python",
   "pygments_lexer": "ipython3",
   "version": "3.7.0"
  }
 },
 "nbformat": 4,
 "nbformat_minor": 2
}
